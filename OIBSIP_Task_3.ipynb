{
  "nbformat": 4,
  "nbformat_minor": 0,
  "metadata": {
    "colab": {
      "provenance": []
    },
    "kernelspec": {
      "name": "python3",
      "display_name": "Python 3"
    },
    "language_info": {
      "name": "python"
    }
  },
  "cells": [
    {
      "cell_type": "markdown",
      "source": [
        "# **Data Cleaning**"
      ],
      "metadata": {
        "id": "wB1xDbZln2hI"
      }
    },
    {
      "cell_type": "markdown",
      "source": [
        "Data cleaning is a crucial step in the data analysis process, ensuring that your dataset is accurate, consistent, and reliable. Below is a comprehensive guide to cleaning the provided dataset (AB_NYC_2019.csv), addressing key concepts and challenges in data cleaning."
      ],
      "metadata": {
        "id": "b2bxJSBUsjtZ"
      }
    },
    {
      "cell_type": "markdown",
      "source": [
        "**1. Load the dataset**"
      ],
      "metadata": {
        "id": "3YPo4GinngDJ"
      }
    },
    {
      "cell_type": "markdown",
      "source": [
        "First, we will load the dataset into a Pandas DataFrame."
      ],
      "metadata": {
        "id": "DW4Xnkwbs5Dh"
      }
    },
    {
      "cell_type": "code",
      "execution_count": null,
      "metadata": {
        "id": "Zhrl9sBmn1mj"
      },
      "outputs": [],
      "source": [
        "import pandas as pd"
      ]
    },
    {
      "cell_type": "code",
      "source": [
        "# Load the dataset\n",
        "path= '/content/AB_NYC_2019.csv'\n",
        "data = pd.read_csv(path)"
      ],
      "metadata": {
        "id": "g5IV0gPSmzbV"
      },
      "execution_count": null,
      "outputs": []
    },
    {
      "cell_type": "code",
      "source": [
        "# Display the first few rows of the dataset\n",
        "print(data.head())"
      ],
      "metadata": {
        "colab": {
          "base_uri": "https://localhost:8080/"
        },
        "id": "-xxhWvRpnJsP",
        "outputId": "68e2e626-31ce-4441-f620-096751da8e66"
      },
      "execution_count": null,
      "outputs": [
        {
          "output_type": "stream",
          "name": "stdout",
          "text": [
            "     id                                              name  host_id  \\\n",
            "0  2539                Clean & quiet apt home by the park     2787   \n",
            "1  2595                             Skylit Midtown Castle     2845   \n",
            "2  3647               THE VILLAGE OF HARLEM....NEW YORK !     4632   \n",
            "3  3831                   Cozy Entire Floor of Brownstone     4869   \n",
            "4  5022  Entire Apt: Spacious Studio/Loft by central park     7192   \n",
            "\n",
            "     host_name neighbourhood_group neighbourhood  latitude  longitude  \\\n",
            "0         John            Brooklyn    Kensington  40.64749  -73.97237   \n",
            "1     Jennifer           Manhattan       Midtown  40.75362  -73.98377   \n",
            "2    Elisabeth           Manhattan        Harlem  40.80902  -73.94190   \n",
            "3  LisaRoxanne            Brooklyn  Clinton Hill  40.68514  -73.95976   \n",
            "4        Laura           Manhattan   East Harlem  40.79851  -73.94399   \n",
            "\n",
            "         room_type  price  minimum_nights  number_of_reviews last_review  \\\n",
            "0     Private room    149               1                  9  2018-10-19   \n",
            "1  Entire home/apt    225               1                 45  2019-05-21   \n",
            "2     Private room    150               3                  0         NaN   \n",
            "3  Entire home/apt     89               1                270  2019-07-05   \n",
            "4  Entire home/apt     80              10                  9  2018-11-19   \n",
            "\n",
            "   reviews_per_month  calculated_host_listings_count  availability_365  \n",
            "0               0.21                               6               365  \n",
            "1               0.38                               2               355  \n",
            "2                NaN                               1               365  \n",
            "3               4.64                               1               194  \n",
            "4               0.10                               1                 0  \n"
          ]
        }
      ]
    },
    {
      "cell_type": "markdown",
      "source": [
        "**2. Data Integrity Checks**"
      ],
      "metadata": {
        "id": "sWZ_1vH2npKL"
      }
    },
    {
      "cell_type": "markdown",
      "source": [
        "Check for data types and basic statistics to understand the structure of the dataset."
      ],
      "metadata": {
        "id": "17YjVDiOs8s2"
      }
    },
    {
      "cell_type": "code",
      "source": [
        "# Check data types and non-null counts\n",
        "print(data.info())"
      ],
      "metadata": {
        "colab": {
          "base_uri": "https://localhost:8080/"
        },
        "id": "BNXhyfzqor1V",
        "outputId": "c218ae99-88bd-464a-f333-93580ce230da"
      },
      "execution_count": null,
      "outputs": [
        {
          "output_type": "stream",
          "name": "stdout",
          "text": [
            "<class 'pandas.core.frame.DataFrame'>\n",
            "RangeIndex: 48895 entries, 0 to 48894\n",
            "Data columns (total 16 columns):\n",
            " #   Column                          Non-Null Count  Dtype  \n",
            "---  ------                          --------------  -----  \n",
            " 0   id                              48895 non-null  int64  \n",
            " 1   name                            48879 non-null  object \n",
            " 2   host_id                         48895 non-null  int64  \n",
            " 3   host_name                       48874 non-null  object \n",
            " 4   neighbourhood_group             48895 non-null  object \n",
            " 5   neighbourhood                   48895 non-null  object \n",
            " 6   latitude                        48895 non-null  float64\n",
            " 7   longitude                       48895 non-null  float64\n",
            " 8   room_type                       48895 non-null  object \n",
            " 9   price                           48895 non-null  int64  \n",
            " 10  minimum_nights                  48895 non-null  int64  \n",
            " 11  number_of_reviews               48895 non-null  int64  \n",
            " 12  last_review                     38843 non-null  object \n",
            " 13  reviews_per_month               38843 non-null  float64\n",
            " 14  calculated_host_listings_count  48895 non-null  int64  \n",
            " 15  availability_365                48895 non-null  int64  \n",
            "dtypes: float64(3), int64(7), object(6)\n",
            "memory usage: 6.0+ MB\n",
            "None\n"
          ]
        }
      ]
    },
    {
      "cell_type": "code",
      "source": [
        "# Summary statistics for numerical columns\n",
        "print(data.describe())"
      ],
      "metadata": {
        "colab": {
          "base_uri": "https://localhost:8080/"
        },
        "id": "sfEb22kqowvo",
        "outputId": "b6440c89-4831-49d3-b9b2-f243925687a5"
      },
      "execution_count": null,
      "outputs": [
        {
          "output_type": "stream",
          "name": "stdout",
          "text": [
            "                 id       host_id      latitude     longitude         price  \\\n",
            "count  4.889500e+04  4.889500e+04  48895.000000  48895.000000  48895.000000   \n",
            "mean   1.901714e+07  6.762001e+07     40.728949    -73.952170    152.720687   \n",
            "std    1.098311e+07  7.861097e+07      0.054530      0.046157    240.154170   \n",
            "min    2.539000e+03  2.438000e+03     40.499790    -74.244420      0.000000   \n",
            "25%    9.471945e+06  7.822033e+06     40.690100    -73.983070     69.000000   \n",
            "50%    1.967728e+07  3.079382e+07     40.723070    -73.955680    106.000000   \n",
            "75%    2.915218e+07  1.074344e+08     40.763115    -73.936275    175.000000   \n",
            "max    3.648724e+07  2.743213e+08     40.913060    -73.712990  10000.000000   \n",
            "\n",
            "       minimum_nights  number_of_reviews  reviews_per_month  \\\n",
            "count    48895.000000       48895.000000       38843.000000   \n",
            "mean         7.029962          23.274466           1.373221   \n",
            "std         20.510550          44.550582           1.680442   \n",
            "min          1.000000           0.000000           0.010000   \n",
            "25%          1.000000           1.000000           0.190000   \n",
            "50%          3.000000           5.000000           0.720000   \n",
            "75%          5.000000          24.000000           2.020000   \n",
            "max       1250.000000         629.000000          58.500000   \n",
            "\n",
            "       calculated_host_listings_count  availability_365  \n",
            "count                    48895.000000      48895.000000  \n",
            "mean                         7.143982        112.781327  \n",
            "std                         32.952519        131.622289  \n",
            "min                          1.000000          0.000000  \n",
            "25%                          1.000000          0.000000  \n",
            "50%                          1.000000         45.000000  \n",
            "75%                          2.000000        227.000000  \n",
            "max                        327.000000        365.000000  \n"
          ]
        }
      ]
    },
    {
      "cell_type": "markdown",
      "source": [
        "**3. Missing Data Handling**"
      ],
      "metadata": {
        "id": "YLrXCEBFrG1_"
      }
    },
    {
      "cell_type": "markdown",
      "source": [
        "Identify missing values and decide how to handle them (imputation or removal)."
      ],
      "metadata": {
        "id": "a0KAYgvptCla"
      }
    },
    {
      "cell_type": "code",
      "source": [
        "# Check for missing values\n",
        "missing_values = data.isnull().sum()\n",
        "print(\"Missing values in each column:\\n\", missing_values)"
      ],
      "metadata": {
        "colab": {
          "base_uri": "https://localhost:8080/"
        },
        "id": "KClUidKSnUm-",
        "outputId": "27ee5ca7-8877-4c23-8be6-e2820d862701"
      },
      "execution_count": null,
      "outputs": [
        {
          "output_type": "stream",
          "name": "stdout",
          "text": [
            "Missing values in each column:\n",
            " id                                    0\n",
            "name                                 16\n",
            "host_id                               0\n",
            "host_name                            21\n",
            "neighbourhood_group                   0\n",
            "neighbourhood                         0\n",
            "latitude                              0\n",
            "longitude                             0\n",
            "room_type                             0\n",
            "price                                 0\n",
            "minimum_nights                        0\n",
            "number_of_reviews                     0\n",
            "last_review                       10052\n",
            "reviews_per_month                 10052\n",
            "calculated_host_listings_count        0\n",
            "availability_365                      0\n",
            "dtype: int64\n"
          ]
        }
      ]
    },
    {
      "cell_type": "code",
      "source": [
        "# Handle missing values\n",
        "data['last_review'].fillna('No Review', inplace=True)  # Impute with 'No Review'\n",
        "data.dropna(subset=['price', 'minimum_nights'], inplace=True)  # Drop rows where price or minimum_nights are missing"
      ],
      "metadata": {
        "colab": {
          "base_uri": "https://localhost:8080/"
        },
        "id": "6nzoK855nz4d",
        "outputId": "be2e4519-ffc3-47cc-e6b6-184228b99dd4"
      },
      "execution_count": null,
      "outputs": [
        {
          "output_type": "stream",
          "name": "stderr",
          "text": [
            "<ipython-input-18-31ce93a6779c>:2: FutureWarning: A value is trying to be set on a copy of a DataFrame or Series through chained assignment using an inplace method.\n",
            "The behavior will change in pandas 3.0. This inplace method will never work because the intermediate object on which we are setting values always behaves as a copy.\n",
            "\n",
            "For example, when doing 'df[col].method(value, inplace=True)', try using 'df.method({col: value}, inplace=True)' or df[col] = df[col].method(value) instead, to perform the operation inplace on the original object.\n",
            "\n",
            "\n",
            "  data['last_review'].fillna('No Review', inplace=True)  # Impute with 'No Review'\n"
          ]
        }
      ]
    },
    {
      "cell_type": "markdown",
      "source": [
        "**4. Duplicate Removal**"
      ],
      "metadata": {
        "id": "Z9iTzqyHriUT"
      }
    },
    {
      "cell_type": "markdown",
      "source": [
        "Identify and remove duplicate records to maintain data uniqueness."
      ],
      "metadata": {
        "id": "J0BvCTqjtIEc"
      }
    },
    {
      "cell_type": "code",
      "source": [
        "# Check for duplicates\n",
        "duplicates = data.duplicated().sum()\n",
        "print(f\"Number of duplicate rows: {duplicates}\")"
      ],
      "metadata": {
        "colab": {
          "base_uri": "https://localhost:8080/"
        },
        "id": "PBV9eE46rTU8",
        "outputId": "188fe8ce-5672-4c9f-fa2b-9bb7a1c09583"
      },
      "execution_count": null,
      "outputs": [
        {
          "output_type": "stream",
          "name": "stdout",
          "text": [
            "Number of duplicate rows: 0\n"
          ]
        }
      ]
    },
    {
      "cell_type": "code",
      "source": [
        "# Remove duplicates if any exist\n",
        "data.drop_duplicates(inplace=True)"
      ],
      "metadata": {
        "id": "7am47JoIr7S_"
      },
      "execution_count": null,
      "outputs": []
    },
    {
      "cell_type": "markdown",
      "source": [
        "**5. Standardization**"
      ],
      "metadata": {
        "id": "pJIvfR94rzWo"
      }
    },
    {
      "cell_type": "markdown",
      "source": [
        "Ensure consistent formatting across the dataset, such as converting text to lowercase or standardizing units."
      ],
      "metadata": {
        "id": "BA1e0MmPtLwp"
      }
    },
    {
      "cell_type": "code",
      "source": [
        "# Standardize room_type to lowercase\n",
        "data['room_type'] = data['room_type'].str.lower()\n",
        "\n",
        "data['price'] = data['price'].astype(float)  # Ensure price is float type"
      ],
      "metadata": {
        "id": "MYKBiExnrmdd"
      },
      "execution_count": null,
      "outputs": []
    },
    {
      "cell_type": "markdown",
      "source": [
        "**6. Outlier Detection**"
      ],
      "metadata": {
        "id": "Nd00iBvisDMZ"
      }
    },
    {
      "cell_type": "markdown",
      "source": [
        "Identify outliers that may skew analysis, particularly in numerical fields like price."
      ],
      "metadata": {
        "id": "nJoo0bIOtP7m"
      }
    },
    {
      "cell_type": "code",
      "source": [
        "import seaborn as sns\n",
        "import matplotlib.pyplot as plt\n",
        "\n",
        "# Visualize price distribution to identify outliers\n",
        "plt.figure(figsize=(10, 6))\n",
        "sns.boxplot(x=data['price'])\n",
        "plt.title('Price Distribution')\n",
        "plt.show()\n",
        "\n",
        "# Remove outliers based on a defined threshold\n",
        "data = data[data['price'] < 1000]"
      ],
      "metadata": {
        "colab": {
          "base_uri": "https://localhost:8080/",
          "height": 564
        },
        "id": "WJ7-jQF1r4pA",
        "outputId": "bdd7d7b3-0062-4d53-9099-9f06e1fee3d6"
      },
      "execution_count": null,
      "outputs": [
        {
          "output_type": "display_data",
          "data": {
            "text/plain": [
              "<Figure size 1000x600 with 1 Axes>"
            ],
            "image/png": "[encoded data removed]"
          },
          "metadata": {}
        }
      ]
    },
    {
      "cell_type": "markdown",
      "source": [
        "**7. Final data review**"
      ],
      "metadata": {
        "id": "oCmxJRMjsRNi"
      }
    },
    {
      "cell_type": "markdown",
      "source": [
        "After cleaning, review the dataset to ensure all issues have been addressed."
      ],
      "metadata": {
        "id": "-GqUsdXWtUI0"
      }
    },
    {
      "cell_type": "code",
      "source": [
        "# Check the shape of the cleaned dataset and summary statistics again\n",
        "print(f\"Cleaned dataset shape: {data.shape}\")\n",
        "print(data.describe())"
      ],
      "metadata": {
        "colab": {
          "base_uri": "https://localhost:8080/"
        },
        "id": "QvvaXhv-sJM0",
        "outputId": "905602cb-2923-4d0b-f172-20a71b53a50c"
      },
      "execution_count": null,
      "outputs": [
        {
          "output_type": "stream",
          "name": "stdout",
          "text": [
            "Cleaned dataset shape: (48597, 16)\n",
            "                 id       host_id      latitude     longitude         price  \\\n",
            "count  4.859700e+04  4.859700e+04  48597.000000  48597.000000  48597.000000   \n",
            "mean   1.902170e+07  6.763529e+07     40.728923    -73.952025    140.237299   \n",
            "std    1.097769e+07  7.860145e+07      0.054579      0.046154    112.906258   \n",
            "min    2.539000e+03  2.438000e+03     40.499790    -74.244420      0.000000   \n",
            "25%    9.476831e+06  7.831209e+06     40.690000    -73.982940     69.000000   \n",
            "50%    1.967775e+07  3.084879e+07     40.722960    -73.955570    105.000000   \n",
            "75%    2.914645e+07  1.074344e+08     40.763120    -73.936090    175.000000   \n",
            "max    3.648724e+07  2.743213e+08     40.913060    -73.712990    999.000000   \n",
            "\n",
            "       minimum_nights  number_of_reviews  reviews_per_month  \\\n",
            "count    48597.000000       48597.000000       38706.000000   \n",
            "mean         6.975019          23.375270           1.375349   \n",
            "std         20.275227          44.650882           1.681966   \n",
            "min          1.000000           0.000000           0.010000   \n",
            "25%          1.000000           1.000000           0.190000   \n",
            "50%          3.000000           5.000000           0.720000   \n",
            "75%          5.000000          24.000000           2.020000   \n",
            "max       1250.000000         629.000000          58.500000   \n",
            "\n",
            "       calculated_host_listings_count  availability_365  \n",
            "count                    48597.000000      48597.000000  \n",
            "mean                         7.168014        112.367862  \n",
            "std                         33.042400        131.378673  \n",
            "min                          1.000000          0.000000  \n",
            "25%                          1.000000          0.000000  \n",
            "50%                          1.000000         44.000000  \n",
            "75%                          2.000000        225.000000  \n",
            "max                        327.000000        365.000000  \n"
          ]
        }
      ]
    },
    {
      "cell_type": "markdown",
      "source": [
        "Conclusion:\n",
        "This data cleaning process not only improves data quality but also enhances the reliability of your analysis outcomes.\n",
        "Each step addresses specific challenges associated with messy data, ultimately leading to more reliable outcomes in subsequent analyses or modeling tasks."
      ],
      "metadata": {
        "id": "VFhEDlGptcLJ"
      }
    }
  ]
}